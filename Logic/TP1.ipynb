{
  "nbformat": 4,
  "nbformat_minor": 0,
  "metadata": {
    "colab": {
      "provenance": []
    },
    "kernelspec": {
      "name": "python3",
      "display_name": "Python 3"
    },
    "language_info": {
      "name": "python"
    }
  },
  "cells": [
    {
      "cell_type": "markdown",
      "source": [
        "📝 TP1.2 - Expresiones lógicas y tablas de verdad\n",
        "\n",
        "En este trabajo práctico vamos a aprender a usar **expresiones lógicas** en Python.  \n",
        "Veremos cómo traducir las proposiciones lógicas a código y cómo evaluarlas.\n",
        "\n",
        "📌 Introducción al TP en Colab\n",
        "\n",
        "🔹 Definición general\n",
        "\n",
        "Un operador es un símbolo (o palabra) que se usa para indicar una operación sobre uno o más valores llamados operandos.\n",
        "\n",
        "🔹 En programación\n",
        "\n",
        "Los operadores son los que permiten hacer cuentas, comparaciones o combinaciones lógicas.\n",
        "Se dividen en varios tipos:\n",
        "\n",
        "\n",
        "1️⃣ Aritméticos: trabajan con números (+, -, *, /, %, **, //).\n",
        "\n",
        "2️⃣ De comparación: comparan valores y devuelven True o False (==, !=, >, <, >=, <=).\n",
        "\n",
        "3️⃣ Lógicos: combinan expresiones lógicas (and, or, not).\n",
        "\n",
        "------------------------------------------------------------------------------\n",
        "\n",
        "\n",
        "1️⃣ Operadores matemáticos (aritméticos)\n",
        "\n",
        "Sirven para hacer cálculos entre números\n",
        "\n",
        "| Operador | Ejemplo  | Significado                                 |\n",
        "| -------- | -------- | ------------------------------------------- |\n",
        "| `+`      | `5 + 3`  | suma                                        |\n",
        "| `-`      | `5 - 3`  | resta                                       |\n",
        "| `*`      | `5 * 3`  | multiplicación                              |\n",
        "| `/`      | `5 / 3`  | división (siempre devuelve float)           |\n",
        "| `//`     | `5 // 3` | división entera (parte entera del cociente) |\n",
        "| `%`      | `5 % 3`  | módulo (resto de la división)               |\n",
        "| `**`     | `5 ** 3` | potencia (5 al cubo = 125)                  |\n",
        "\n"
      ],
      "metadata": {
        "id": "i_66NX9kz1no"
      }
    },
    {
      "cell_type": "code",
      "execution_count": null,
      "metadata": {
        "id": "Rg1p-0eRzr3Y",
        "colab": {
          "base_uri": "https://localhost:8080/"
        },
        "outputId": "16a30fed-bdd2-4122-816d-41b661e105cb"
      },
      "outputs": [
        {
          "output_type": "stream",
          "name": "stdout",
          "text": [
            "8\n",
            "2\n",
            "15\n",
            "1.6666666666666667\n",
            "1\n",
            "2\n",
            "125\n"
          ]
        }
      ],
      "source": [
        "print(5 + 3)   # 8\n",
        "print(5 - 3)   # 2\n",
        "print(5 * 3)   # 15\n",
        "print(5 / 3)   # 1.666...\n",
        "print(5 // 3)  # 1\n",
        "print(5 % 3)   # 2\n",
        "print(5 ** 3)  # 125\n"
      ]
    },
    {
      "cell_type": "markdown",
      "source": [
        "2️⃣ Operadores de comparación\n",
        "\n",
        "Permiten comparar valores y devuelven True o False (lógico):\n",
        "| Operador | Ejemplo  | Significado   |\n",
        "| -------- | -------- | ------------- |\n",
        "| `==`     | `5 == 3` | igual a       |\n",
        "| `!=`     | `5 != 3` | distinto de   |\n",
        "| `>`      | `5 > 3`  | mayor que     |\n",
        "| `<`      | `5 < 3`  | menor que     |\n",
        "| `>=`     | `5 >= 3` | mayor o igual |\n",
        "| `<=`     | `5 <= 3` | menor o igual |\n"
      ],
      "metadata": {
        "id": "KiY-_faP2t3M"
      }
    },
    {
      "cell_type": "code",
      "source": [
        "print(5 == 3)  # False\n",
        "  # False"
      ],
      "metadata": {
        "id": "XPFJJH8T3oM2",
        "colab": {
          "base_uri": "https://localhost:8080/"
        },
        "outputId": "cf05e32a-fbd7-461b-aadc-eee844e044c3"
      },
      "execution_count": null,
      "outputs": [
        {
          "output_type": "stream",
          "name": "stdout",
          "text": [
            "False\n"
          ]
        }
      ]
    },
    {
      "cell_type": "code",
      "source": [
        "print(5 != 3)  # True\n",
        "print(5 > 3)   # True\n",
        "print(5 <= 3)"
      ],
      "metadata": {
        "id": "IAK4DJlmsgC-",
        "colab": {
          "base_uri": "https://localhost:8080/"
        },
        "outputId": "e61e2fdf-24ff-4113-dcef-3d8e397468b9"
      },
      "execution_count": null,
      "outputs": [
        {
          "output_type": "stream",
          "name": "stdout",
          "text": [
            "True\n",
            "True\n",
            "False\n"
          ]
        }
      ]
    },
    {
      "cell_type": "markdown",
      "source": [
        " 🔹 Lógica proposicional\n",
        "\n",
        "Una proposición es una oración que puede ser verdadera (V / True) o falsa (F / False).\n",
        "\n",
        "En lógica se usan letras (p, q, r, …) para representar proposiciones\n",
        "\n",
        "| Lógica proposicional | Lectura en español | En Python |\n",
        "| -------------------- | ------------------ | --------- |\n",
        "| ¬p                   | no p               | `not p`   |\n",
        "| p ∧ q                | p y q              | `p and q` |\n",
        "| p ∨ q                | p o q              | `p or q`  |\n",
        "\n",
        "------------------------------------------------------------------------------\n",
        "\n",
        " ¿Qué es una expresión lógica?\n",
        "\n",
        "Una proposición que puede ser verdadera (True) o falsa (False).\n",
        "Se construye usando operadores lógicos.\n",
        "\n",
        "3️⃣ Operadores lógicos en Python\n",
        "\n",
        "| Operador | Significado                            |\n",
        "| -------- | -------------------------------------- |\n",
        "| `and`    | verdadero solo si ambos son verdaderos |\n",
        "| `or`     | verdadero si al menos uno es verdadero |\n",
        "| `not`    | invierte el valor lógico               |\n",
        "\n",
        "\n",
        "🔗 De expresión matemática a expresión lógica\n",
        "\n",
        "| \"Etapa\"        | \"Ejemplo\"        | \"Resultado\"   | \"Tipo de valor\" |\n",
        "|----------------|------------------|---------------|-----------------|\n",
        "| \"Matemática\"   | `5 + 3`          | `8`           | Número          |\n",
        "| \"Comparación\"  | `5 + 3 > 6`      | `True`        | Lógico          |\n",
        "| \"Comparación\"  | `7 * 2 == 15`    | `False`       | Lógico          |\n",
        "| \"Lógica\"       | `(5+3 > 6) and (7*2 == 15)` | `True and False → False` | Lógico |\n",
        "| \"Lógica\"       | `(10 - 4 < 3) or (2**3 == 8)` | `False or True → True` | Lógico |\n",
        "| \"Lógica\"       | `not (7 % 2 == 0)` | `not False → True` | Lógico |\n",
        "\n",
        "\n",
        "\n"
      ],
      "metadata": {
        "id": "E8nxx7PFz0MY"
      }
    },
    {
      "cell_type": "code",
      "source": [
        "print(5 > 3)        # True\n",
        "print(10 == 2)      # False\n",
        "print((5 > 3) and (10 < 2))   # False\n",
        "print((5 > 3) or (10 < 2))    # True\n",
        "print(not (5 > 3))  # False\n"
      ],
      "metadata": {
        "id": "iVIGGssP4QkB",
        "colab": {
          "base_uri": "https://localhost:8080/"
        },
        "outputId": "3349a844-4ac0-4eee-b207-6a552029af73"
      },
      "execution_count": null,
      "outputs": [
        {
          "output_type": "stream",
          "name": "stdout",
          "text": [
            "True\n",
            "False\n",
            "False\n",
            "True\n",
            "False\n"
          ]
        }
      ]
    },
    {
      "cell_type": "code",
      "source": [
        "a = 5\n",
        "b = 10\n",
        "c = 6\n",
        "print((a > b) and (c > a))  # True\n"
      ],
      "metadata": {
        "id": "A9XK28nlAxpH",
        "colab": {
          "base_uri": "https://localhost:8080/"
        },
        "outputId": "37a3c960-2057-49ce-f79a-a27e6e81c17f"
      },
      "execution_count": null,
      "outputs": [
        {
          "output_type": "stream",
          "name": "stdout",
          "text": [
            "False\n"
          ]
        }
      ]
    },
    {
      "cell_type": "code",
      "source": [
        "a = 0\n",
        "b = -2\n",
        "c = 8\n",
        "print((a > b) or (c < a))"
      ],
      "metadata": {
        "id": "8-MQ49eYA0wq",
        "colab": {
          "base_uri": "https://localhost:8080/"
        },
        "outputId": "c7aeb7ae-965c-48dc-a1a5-57c002a4520a"
      },
      "execution_count": null,
      "outputs": [
        {
          "output_type": "stream",
          "name": "stdout",
          "text": [
            "True\n"
          ]
        }
      ]
    },
    {
      "cell_type": "code",
      "source": [
        "a = -1\n",
        "b = -90\n",
        "c = 100\n",
        "print(not (a > b))"
      ],
      "metadata": {
        "id": "XMAScASfA9mS",
        "colab": {
          "base_uri": "https://localhost:8080/"
        },
        "outputId": "3fcc1236-a5b7-40c5-a623-892bbb29f8d8"
      },
      "execution_count": null,
      "outputs": [
        {
          "output_type": "stream",
          "name": "stdout",
          "text": [
            "False\n"
          ]
        }
      ]
    },
    {
      "cell_type": "markdown",
      "source": [
        "Ejercicio 1\n",
        "Evaluar el valor lógico (True o False) de las siguientes expresiones:\n",
        "a) (45>3) AND NOT(99<9)  \n",
        "b) (10>=5 OR 23==13) AND NOT(8==8)  \n",
        "c) (NOT(6/3>3) OR 7>7) AND (3>=9/2 OR (2+3)>=7/2)  "
      ],
      "metadata": {
        "id": "kN0dLdi-KWHX"
      }
    },
    {
      "cell_type": "code",
      "source": [
        "#comenzar a escribir el programa aquí\n",
        "print(( 45 > 3 ) and  (not ( 99 < 9 )) )"
      ],
      "metadata": {
        "id": "P3wckGRGKcrH",
        "colab": {
          "base_uri": "https://localhost:8080/"
        },
        "outputId": "4aa5a718-a2ba-467e-e2d4-ac266495a1b6"
      },
      "execution_count": null,
      "outputs": [
        {
          "output_type": "stream",
          "name": "stdout",
          "text": [
            "True\n"
          ]
        }
      ]
    },
    {
      "cell_type": "code",
      "source": [
        "# p and q: nacion=1, provincia=2, mp=3\n",
        "p=2\n",
        "q=10000\n",
        "print(p==3 and q>=5000)"
      ],
      "metadata": {
        "colab": {
          "base_uri": "https://localhost:8080/"
        },
        "id": "sgYQIwON1SQY",
        "outputId": "f893ecf5-5511-4a6c-a5fc-c331cdcd58b2"
      },
      "execution_count": null,
      "outputs": [
        {
          "output_type": "stream",
          "name": "stdout",
          "text": [
            "False\n"
          ]
        }
      ]
    },
    {
      "cell_type": "code",
      "source": [
        "# Ejercicio 1: Valor lógico (F o V) de las siguientes expresiones:\n",
        "\n",
        "#a)\n",
        "print((45 > 3) and not(99 < 9)) #True\n",
        "\n",
        "#b)\n",
        "print((10 >= 5 or 23 == 13) and not(8 == 8)) #False\n",
        "\n",
        "#c)\n",
        "print((not(6/3 > 3) or 7 > 7) and (3 >= 9/2 or (2 + 3) >= 7/2)) #True"
      ],
      "metadata": {
        "colab": {
          "base_uri": "https://localhost:8080/"
        },
        "id": "aaHdW_GbdESi",
        "outputId": "e19b89a7-0f16-488f-9cce-8d0ab79f7272"
      },
      "execution_count": null,
      "outputs": [
        {
          "output_type": "stream",
          "name": "stdout",
          "text": [
            "True\n",
            "False\n",
            "True\n"
          ]
        }
      ]
    },
    {
      "cell_type": "code",
      "source": [
        "# Un supermercado ofrece un descuento a sus clientes si estos hacen una compra de\n",
        "# $5000 o más, pagando con la tarjeta de Mercado Pago.\n",
        "# El supermercado tiene la siguiente codificación para las distintas tarjetas:\n",
        "\n",
        "# Nacion = 1; Provincia = 2; Mercado Pago = 3; se asignarán a la variable X\n",
        "# El monto de la compra se asignará a Z\n",
        "# El monto total a pagar se asigna a la variable Y\n",
        "# Si se paga con MP y la compra supera los $5000, se hace un 20% descuento\n",
        "\n",
        "# Cliente A\n",
        "X = 1\n",
        "Z = 5000\n",
        "\n",
        "if X == 3 and Z >= 5000:\n",
        "  Y = Z * 0.8\n",
        "else:\n",
        "  Y = Z\n",
        "\n",
        "print(Y)  #No recibe descuento, no pago con MP; 5000\n",
        "\n",
        "# Cliente B\n",
        "X = 2\n",
        "Z = 4999\n",
        "\n",
        "\n",
        "if X == 3 and Z >= 5000:\n",
        "  Y = Z * 0.8\n",
        "else:\n",
        "  Y = Z\n",
        "\n",
        "print(Y) #No recibe descuento, no pago con MP; $4999\n",
        "\n",
        "# Cliente C\n",
        "X = 3\n",
        "Z = 4999\n",
        "\n",
        "\n",
        "if X == 3 and Z >= 5000:\n",
        "  Y = Z * 0.8\n",
        "else:\n",
        "  Y = Z\n",
        "\n",
        "print(Y) #No recibe descuento, paga con MP pero no lo suficiente; $4999\n",
        "\n",
        "# Cliente D\n",
        "X = 3\n",
        "Z = 5050\n",
        "\n",
        "if X == 3 and Z >= 5000:\n",
        "  Y = Z * 0.8\n",
        "else:\n",
        "  Y = Z\n",
        "\n",
        "print(Y) #Recibe descuento, paga con MP y la compra supera los $5000; paga $4040\n",
        "\n",
        "\n"
      ],
      "metadata": {
        "colab": {
          "base_uri": "https://localhost:8080/"
        },
        "id": "OGtxr91GfzUm",
        "outputId": "e4533412-d799-4e68-8259-701a1dcd07ce"
      },
      "execution_count": null,
      "outputs": [
        {
          "output_type": "stream",
          "name": "stdout",
          "text": [
            "5000\n",
            "4999\n",
            "4999\n",
            "4040.0\n"
          ]
        }
      ]
    },
    {
      "cell_type": "code",
      "source": [
        "# Ejercicio 3:\n",
        "# Para acceder a una beca de ayuda económica, los postulantes deben cumplir una\n",
        "# serie de requisitos: Se la darán a quienes tengan trabajo informal que ganen menos\n",
        "# de $50000 o a quienes tengan trabajo formal y ganen menos de $20000. Además, la\n",
        "# persona debe tener otras personas a cargo, hijos o familiares.\n",
        "\n",
        "# Q representa el tipo de trabajo que se tiene (formal  = 1; informal = 0)\n",
        "# X representa el sueldo de la persona\n",
        "# Z representa hijos (si = 1; no = 0)\n",
        "# P representa si hay otros familiares a cargo de la persona (si = 1, no = 0)\n",
        "# La variable R si reciben o no ayuda económica (si  = True; no = False)\n",
        "\n",
        "\n",
        "# Postulante A\n",
        "Q = 0\n",
        "X = 50000\n",
        "Z = 1\n",
        "P = 1\n",
        "\n",
        "R = ((Q == 0 and X < 50000) or (Q == 1 and X < 20000)) and (Z == 1 or P == 1)\n",
        "print(R) #No recibe la ayuda\n",
        "\n",
        "# Postulante B\n",
        "Q = 1\n",
        "X = 20000\n",
        "Z = 0\n",
        "P = 0\n",
        "\n",
        "R = ((Q == 0 and X < 50000) or (Q == 1 and X < 20000)) and (Z == 1 or P == 1)\n",
        "print(R) #No recibe la ayuda\n",
        "\n",
        "# Postulante C\n",
        "Q = 1\n",
        "X = 40000\n",
        "Z = 1\n",
        "P = 1\n",
        "\n",
        "R = ((Q == 0 and X < 50000) or (Q == 1 and X < 20000)) and (Z == 1 or P == 1)\n",
        "print(R) #No recibe la ayuda\n",
        "\n",
        "# Postulante D\n",
        "Q = 0\n",
        "X = 50000\n",
        "Z = 1\n",
        "P = 1\n",
        "\n",
        "R = ((Q == 0 and X < 50000) or (Q == 1 and X < 20000)) and (Z == 1 or P == 1)\n",
        "print(R) #No recibe la ayuda\n",
        "\n",
        "\n"
      ],
      "metadata": {
        "colab": {
          "base_uri": "https://localhost:8080/"
        },
        "id": "4O1NKq3DgGFN",
        "outputId": "7047309d-8cbd-45ac-9c4e-0b6dc71fa673"
      },
      "execution_count": null,
      "outputs": [
        {
          "output_type": "stream",
          "name": "stdout",
          "text": [
            "False\n",
            "False\n",
            "False\n",
            "False\n"
          ]
        }
      ]
    }
  ]
}