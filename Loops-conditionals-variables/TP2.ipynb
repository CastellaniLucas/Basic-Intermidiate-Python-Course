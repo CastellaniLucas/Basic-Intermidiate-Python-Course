{
  "cells": [
    {
      "cell_type": "markdown",
      "metadata": {
        "id": "dy8Qgxas9UyO"
      },
      "source": [
        "# Clase 2 - Variables y Condicionales en Python\n",
        "\n",
        "---\n",
        "\n",
        "🔹 Variables\n",
        "\n",
        "Una **variable** es un **espacio de memoria** donde se guarda un valor para poder usarlo más adelante en el programa.  \n",
        "En Python **no hace falta declarar el tipo de la variable**, ya que el lenguaje lo infiere automáticamente según el valor que le asignamos.\n",
        "\n",
        "Tipos de variables más comunes:\n",
        "- **int** → números enteros (ej: 10, -5, 0)\n",
        "- **float** → números racionales (ej: 3.14, -0.5)\n",
        "- **complex** → números complejos (ej: 3+7j, 108-5.3j)\n",
        "- **str** → cadenas de texto (ej: \"hola\", 'Python')\n",
        "- **bool** → valores lógicos: `True` o `False`\n",
        "\n",
        "---\n"
      ]
    },
    {
      "cell_type": "code",
      "execution_count": 1,
      "metadata": {
        "id": "YX_VsKJQ9TfK"
      },
      "outputs": [],
      "source": [
        "# Ejemplos de variables y asgnación de valores a una variable.\n",
        "# Notar que no hay que hacer una declaración del tipo de variable.\n",
        "# Los valores numéricos que introducimos son sólo magnitudes.\n",
        "nombre = 'Ana'\n",
        "edad = 20\n",
        "altura = 1.65\n",
        "compl = 4-6j\n",
        "es_estudiante = True\n",
        "is_student = True"
      ]
    },
    {
      "cell_type": "code",
      "execution_count": 2,
      "metadata": {
        "collapsed": true,
        "id": "gvkU888GANUE"
      },
      "outputs": [
        {
          "data": {
            "text/plain": [
              "int"
            ]
          },
          "execution_count": 2,
          "metadata": {},
          "output_type": "execute_result"
        }
      ],
      "source": [
        "#tipo de valor de variables\n",
        "#en colab imprime el tipo de variable directamente\n",
        "#en vscode hay que usar print(type(variable))\n",
        "type(nombre)\n",
        "type(edad)"
      ]
    },
    {
      "cell_type": "code",
      "execution_count": 3,
      "metadata": {
        "id": "GNqERbFXAvbE"
      },
      "outputs": [
        {
          "name": "stdout",
          "output_type": "stream",
          "text": [
            "Ana\n",
            "20\n",
            "1.65\n",
            "(4-6j)\n",
            "True\n"
          ]
        }
      ],
      "source": [
        "#impresión del valor de la varialble: función print()\n",
        "print(nombre)\n",
        "print(edad)\n",
        "print(altura)\n",
        "print(compl)\n",
        "print(es_estudiante)"
      ]
    },
    {
      "cell_type": "markdown",
      "metadata": {
        "id": "P5rIDQvABjv_"
      },
      "source": [
        "🔹 Nombramiento de variables\n",
        "\n",
        "Para que el código sea claro y funcione bien, es importante seguir algunas reglas y buenas prácticas al nombrar variables:\n",
        "\n",
        "✅ Reglas básicas:\n",
        "- El nombre **no puede empezar con un número**.  \n",
        "  Ejemplo válido: `edad1` → ❌ `1edad`\n",
        "- Solo puede contener **letras, números y guiones bajos (`_`)**.  \n",
        "  Ejemplo válido: `mi_variable` → ❌ `mi-variable`\n",
        "- Python distingue **mayúsculas y minúsculas**.  \n",
        "  `Nombre` y `nombre` son variables distintas.\n",
        "- No se pueden usar **palabras reservadas** del lenguaje (ej: `if`, `for`, `class`, `True`, etc.).\n",
        "\n",
        "Buenas prácticas:\n",
        "- Usar **nombres descriptivos** que indiquen qué guarda la variable.  \n",
        "  Ejemplo: `nombre_usuario` es más claro que `x`.\n",
        "- Usar **snake_case** (palabras separadas por guión bajo).  \n",
        "  Ejemplo: `precio_producto`, `edad_persona`.\n",
        "- Mantener consistencia en el estilo de nombres en todo el código.\n"
      ]
    },
    {
      "cell_type": "code",
      "execution_count": 4,
      "metadata": {
        "colab": {
          "base_uri": "https://localhost:8080/"
        },
        "id": "KN-_uR-uDhiU",
        "outputId": "abaa6ef9-406f-4e3e-dd07-93a7072da596"
      },
      "outputs": [
        {
          "name": "stdout",
          "output_type": "stream",
          "text": [
            "40\n",
            "3.3\n"
          ]
        }
      ],
      "source": [
        "nombre = \"Ana\"\n",
        "edad = 20\n",
        "altura = 1.65\n",
        "compl = 4-6j\n",
        "es_estudiante = True\n",
        "\n",
        "doble_edad = edad * 2  #esta variable guarda una operación\n",
        "doble_altura = altura * 2\n",
        "\n",
        "print(doble_edad)\n",
        "print(doble_altura)"
      ]
    },
    {
      "cell_type": "code",
      "execution_count": 5,
      "metadata": {
        "id": "tvqkOixYEBnr"
      },
      "outputs": [
        {
          "name": "stdout",
          "output_type": "stream",
          "text": [
            "40\n",
            "3.3\n"
          ]
        }
      ],
      "source": [
        "x = \"Ana\"\n",
        "y = 20\n",
        "z = 1.65\n",
        "w = True\n",
        "\n",
        "#x = nombre, y = edad, z = altura, w = is_student\n",
        "doble_y = y * 2\n",
        "doble_z = z * 2\n",
        "\n",
        "print(doble_y)\n",
        "print(doble_z)"
      ]
    },
    {
      "cell_type": "code",
      "execution_count": 6,
      "metadata": {
        "colab": {
          "base_uri": "https://localhost:8080/"
        },
        "id": "cDj7OMT9G7n3",
        "outputId": "049364ef-7f89-4043-e7d3-2e2cc6e78f09"
      },
      "outputs": [
        {
          "name": "stdout",
          "output_type": "stream",
          "text": [
            "Hello World!\n"
          ]
        }
      ],
      "source": [
        "print(\"Hello World!\")"
      ]
    },
    {
      "cell_type": "markdown",
      "metadata": {
        "id": "UHQlA47oEqbJ"
      },
      "source": [
        "## 🔹 Condicionales\n",
        "\n",
        "Los **condicionales** permiten ejecutar diferentes bloques de código dependiendo de si una condición es **verdadera** o **falsa**.\n",
        "\n",
        "### Sintaxis básica:\n",
        "\n",
        "```python\n",
        "if condición:\n",
        "    # bloque si la condición es True\n",
        "else:\n",
        "    # bloque si la condición es False\n"
      ]
    },
    {
      "cell_type": "code",
      "execution_count": 7,
      "metadata": {
        "colab": {
          "base_uri": "https://localhost:8080/"
        },
        "id": "ekNOdLi_GHdP",
        "outputId": "1252e59f-44c7-4442-afc7-b78525b908e3"
      },
      "outputs": [
        {
          "name": "stdout",
          "output_type": "stream",
          "text": [
            "Sos menor de edad\n"
          ]
        }
      ],
      "source": [
        "#if - else. Si la condición se cumple se ejecuta el bloque 1\n",
        "#           Si la condición no se cumple, se ejecuta el bloque 2\n",
        "edad = 15\n",
        "\n",
        "if edad >= 18 :\n",
        "    print(\"Sos mayor de edad\") #Bloque 1\n",
        "else:\n",
        "    print(\"Sos menor de edad\")   # Bloque 2"
      ]
    },
    {
      "cell_type": "code",
      "execution_count": 8,
      "metadata": {
        "id": "mhIG0IU6F2xg"
      },
      "outputs": [],
      "source": [
        "#Sólo con IF: se ejecuTa si la condición es verdadera\n",
        "edad = 4\n",
        "\n",
        "if edad >= 18:\n",
        "    print(\"Sos mayor de edad\")   # Esto se ejecuta porque la condición es True\n"
      ]
    },
    {
      "cell_type": "markdown",
      "metadata": {
        "id": "I4evjE5pGuGk"
      },
      "source": [
        "🔹 Condicionales en Python: if, elif, else\n",
        "\n",
        "Los **condicionales** permiten que el programa tome **decisiones** y ejecute diferentes bloques de código según se cumplan (o no) ciertas condiciones.\n",
        "\n",
        "---\n",
        "\n",
        " ✅ Estructura básica\n",
        "\n",
        "```python\n",
        "if condición:\n",
        "    # bloque de código si la condición es True\n",
        "elif otra_condición:\n",
        "    # bloque de código si la condición anterior es False\n",
        "    # y esta condición es True\n",
        "else:\n",
        "    # bloque de código si ninguna de las condiciones anteriores es True\n",
        "\n",
        "🔹 Importante sobre if - elif - else\n",
        "\n",
        "En una cadena de condicionales, **Python ejecuta solamente el primer bloque cuya condición sea verdadera**.  \n",
        "Después de eso, **ignora el resto de condiciones**, aunque también se cumplan.\n"
      ]
    },
    {
      "cell_type": "code",
      "execution_count": 9,
      "metadata": {
        "colab": {
          "base_uri": "https://localhost:8080/"
        },
        "id": "bDv0HAUWHXVD",
        "outputId": "03c85a8f-b176-45c5-ba41-c47a1703dfbd"
      },
      "outputs": [
        {
          "name": "stdout",
          "output_type": "stream",
          "text": [
            "Excelente\n"
          ]
        }
      ],
      "source": [
        "nota = 100\n",
        "\n",
        "if nota >= 90:\n",
        "    print(\"Excelente\")\n",
        "elif nota >= 70:\n",
        "    print(\"Aprobado\")\n",
        "else:\n",
        "    print(\"Desaprobado\")\n"
      ]
    },
    {
      "cell_type": "code",
      "execution_count": 10,
      "metadata": {
        "id": "cIRhPebVnorS"
      },
      "outputs": [
        {
          "name": "stdout",
          "output_type": "stream",
          "text": [
            "Excelente\n",
            "Aprobado\n"
          ]
        }
      ],
      "source": [
        "nota = 100\n",
        "\n",
        "if nota >= 90:\n",
        "    print(\"Excelente\")\n",
        "if nota >= 70:\n",
        "    print(\"Aprobado\")\n",
        "else:\n",
        "    print(\"Desaprobado\")"
      ]
    },
    {
      "cell_type": "markdown",
      "metadata": {
        "id": "DZUSl9nQIn8T"
      },
      "source": [
        " 🔹 Diferencia entre `if - elif - else` y `if - if - else`\n",
        "\n",
        "1️⃣ `if - elif - else`\n",
        "- Se evalúan las condiciones **en orden**.\n",
        "- **Solo se ejecuta un bloque**: el primer `True` que se encuentre.\n",
        "- Si una condición es verdadera, el resto **ya no se revisa**.\n",
        "\n",
        "2️⃣ `if - if - else`\n",
        "\n",
        "- Cada `if` es **independiente**.\n",
        "- Pueden ejecutarse varios bloques a la vez si más de una condición es verdadera.\n",
        "- El `else` está ligado solamente al `if` más cercano.\n",
        "\n",
        "\n",
        "\n",
        "\n",
        "| Estructura            | Evalúa más de una condición | Se detiene al encontrar una verdadera | ¿Cuándo usarla?                         |\n",
        "|-----------------------|-----------------------------|----------------------------------------|-----------------------------------------|\n",
        "| `if – elif – else`    | ❌ No                        | ✅ Sí                                   | Cuando las condiciones **se excluyen** |\n",
        "| `if – if – else`      | ✅ Sí                        | ❌ No                                   | Cuando **pueden cumplirse varias**     |\n",
        "\n",
        "---\n",
        "\n"
      ]
    },
    {
      "cell_type": "code",
      "execution_count": 11,
      "metadata": {
        "id": "b4KOT1SEJDYa"
      },
      "outputs": [
        {
          "name": "stdout",
          "output_type": "stream",
          "text": [
            "Excelente\n"
          ]
        }
      ],
      "source": [
        "#usando IF ELIF ELSE\n",
        "\n",
        "nota = 90\n",
        "if nota >= 90:\n",
        "    print(\"Excelente\")\n",
        "elif nota >= 70:\n",
        "    print(\"Aprobado\")\n",
        "else:\n",
        "    print(\"Desaprobado\")"
      ]
    },
    {
      "cell_type": "code",
      "execution_count": 12,
      "metadata": {
        "collapsed": true,
        "id": "7SwNtVDWJQzO"
      },
      "outputs": [
        {
          "name": "stdout",
          "output_type": "stream",
          "text": [
            "Excelente\n",
            "Aprobado\n"
          ]
        }
      ],
      "source": [
        "#usando IF IF ELSE\n",
        "if nota >= 90:\n",
        "\n",
        "    print(\"Excelente\")\n",
        "if nota >= 70:\n",
        "    print(\"Aprobado\")\n",
        "else:\n",
        "    print(\"Desaprobado\")"
      ]
    },
    {
      "cell_type": "code",
      "execution_count": 13,
      "metadata": {
        "id": "eomFRc8epad-"
      },
      "outputs": [
        {
          "name": "stdout",
          "output_type": "stream",
          "text": [
            "Edad inválida\n"
          ]
        }
      ],
      "source": [
        "edad = 150\n",
        "\n",
        "if edad < 0 or edad > 120:     #si esta da true, el elif no se ejecuta\n",
        "    print(\"Edad inválida\")\n",
        "elif edad >= 18:\n",
        "    print(\"Sos mayor de edad\")  # Bloque 1\n",
        "else:\n",
        "    print(\"Sos menor de edad\")  # Bloque 2"
      ]
    },
    {
      "cell_type": "markdown",
      "metadata": {
        "id": "fCN0AmEgjP7v"
      },
      "source": [
        " 🔹 Introducción a `input()` en Python\n",
        "\n",
        "- `input()` es una **función que permite al usuario ingresar datos por teclado** mientras el programa se ejecuta.  \n",
        "- Siempre devuelve **un valor de tipo `str` (cadena de texto)**.  \n",
        "- Si necesitás otro tipo (por ejemplo un número entero), hay que **convertirlo** usando `int()` o `float()`.\n",
        "\n",
        " Ejemplos\n",
        "\n",
        "```python\n",
        "# Pedir un nombre\n",
        "nombre = input()\n",
        "print(nombre)\n",
        "\n",
        "Siempre es buena práctica mostrar un mensaje claro dentro del input() para que el usuario sepa qué escribir.\n",
        "\n",
        "# Pedir edad y convertir a número\n",
        "edad = int(input(\"Escribí tu edad: \"))\n",
        "print(\"Tenés\", edad, \"años\")\n"
      ]
    },
    {
      "cell_type": "code",
      "execution_count": null,
      "metadata": {
        "id": "tKkZi2XBn5mw"
      },
      "outputs": [],
      "source": [
        "nombre_1= input('Escriba su nombre')\n",
        "edad_1 = int(input('Escriba su edad'))\n",
        "\n",
        "if edad_1 >=18 :\n",
        "  print(nombre_1, 'Es mayor de edad')\n"
      ]
    },
    {
      "cell_type": "code",
      "execution_count": null,
      "metadata": {
        "id": "fWS_WsGqo8Y_"
      },
      "outputs": [],
      "source": [
        "# if – if – else\n",
        "#Sirve si las condiciones pueden cumplirse más de una a la vez.\n",
        "#➡️ Evalúa todas las condiciones, no se detiene.\n",
        "\n",
        "x = int(input())\n",
        "\n",
        "if x >= 0:\n",
        "    print(\"No es negativo\")\n",
        "if x == 0:\n",
        "    print(\"Es cero\")\n",
        "else:\n",
        "    print(\"No es cero\")\n",
        "\n"
      ]
    },
    {
      "cell_type": "code",
      "execution_count": null,
      "metadata": {
        "id": "JpTFhgJp3EPy"
      },
      "outputs": [],
      "source": [
        "# Pedimos un número al usuario\n",
        "#rango de números\n",
        "#Si el número es mayor que 0, se imprime \"El número es positivo\".\n",
        "#Si el número es menor que 0, se imprime \"El número es negativo\".\n",
        "#Si no se cumplen las dos condiciones anteriores, se ejecuta el bloque else y se imprime \"El número es cero\".\n",
        "\n",
        "\n",
        "# if – elif – else\n",
        "#Sirve cuando las condiciones se excluyen mutuamente (solo una puede ser verdadera).\n",
        "#➡️ Evalúa de arriba hacia abajo, y cuando encuentra una verdadera, ya no evalúa más.\n",
        "\n",
        "numero = int(input())\n",
        "\n",
        "# Comprobamos si el número es positivo, negativo o cero\n",
        "if numero > 0:\n",
        "    print(\"El número es positivo.\")\n",
        "elif numero < 0:\n",
        "    print(\"El número es negativo.\")\n",
        "else:\n",
        "    print(\"El número es cero.\")"
      ]
    },
    {
      "cell_type": "code",
      "execution_count": null,
      "metadata": {
        "id": "XutZSNUz3QTl"
      },
      "outputs": [],
      "source": [
        "#rango de edades\n",
        "# Pedimos la edad del usuario\n",
        "#Si la edad es mayor a 18, se imprime \"Eres mayor de edad\".\n",
        "#Si la edad es exactamente 18, se imprime \"Tienes 18 años, justo la mayoría de edad\".\n",
        "#Si la edad es menor que 18, se imprime \"Eres menor de edad\".\n",
        "\n",
        "\n",
        "edad = int(input()) #poner el input anidado en int, fuerza a la variable a ser entera\n",
        "\n",
        "# Comprobamos si es mayor de edad, menor de edad o tiene justo 18 años\n",
        "if edad > 18:\n",
        "    print(\"Eres mayor de edad.\")\n",
        "elif edad == 18:\n",
        "    print(\"Tienes 18 años, justo la mayoría de edad.\")\n",
        "else:\n",
        "    print(\"Eres menor de edad.\")"
      ]
    },
    {
      "cell_type": "code",
      "execution_count": null,
      "metadata": {
        "id": "CxrDnbSyLPnF"
      },
      "outputs": [],
      "source": [
        "nombre = input(\"Escribe tu nombre: \")\n",
        "saludo = 'Hola'\n",
        "\n",
        "print(saludo, nombre)"
      ]
    },
    {
      "cell_type": "code",
      "execution_count": null,
      "metadata": {
        "id": "5DCA-LtBKceo"
      },
      "outputs": [],
      "source": [
        "edad = int(input(\"Ingresa tu edad: \"))\n",
        "edad_futura = edad + 5\n",
        "print(\"En 5 años tendrás\", edad_futura)"
      ]
    },
    {
      "cell_type": "markdown",
      "metadata": {
        "id": "gnUg2wjWLkdG"
      },
      "source": [
        "📝 Ejercicio: Saludo personalizado\n",
        "\n",
        "**Objetivo:** Practicar cómo pedir datos al usuario y mostrarlos en pantalla.\n",
        "\n",
        "Instrucciones:\n",
        "\n",
        "1. Pide al usuario que ingrese su nombre usando `input()`.\n",
        "2. Pide al usuario que ingrese su edad.\n",
        "3. Muestra un mensaje saludando al usuario y mencionando su edad.\n"
      ]
    },
    {
      "cell_type": "code",
      "execution_count": 1,
      "metadata": {
        "id": "6_5qi2ClrWnN"
      },
      "outputs": [
        {
          "name": "stdout",
          "output_type": "stream",
          "text": [
            "Hola Lucas. Usted tiene 22 años, le deseo un hermoso día\n"
          ]
        }
      ],
      "source": [
        "nombre = input(\"Escriba su nombre: \")\n",
        "edad = int(input(\"Ingrese su edad: \"))\n",
        "\n",
        "print(f\"Hola {nombre}. Usted tiene {edad} años, le deseo un hermoso día\")"
      ]
    },
    {
      "cell_type": "markdown",
      "metadata": {
        "id": "dIe7yiPGrVH5"
      },
      "source": []
    },
    {
      "cell_type": "markdown",
      "metadata": {
        "id": "I9kaYRiDrXUF"
      },
      "source": [
        "🔹 Introducción al Software y su relación con Python\n",
        "\n",
        "El **software** es el conjunto de programas, instrucciones y datos que permiten que una computadora o dispositivo funcione.  \n",
        "Se divide en dos grandes tipos:\n",
        "\n",
        "1. **Software de sistema:**  \n",
        "   - Permite que la computadora funcione y gestione sus recursos.  \n",
        "   - Ejemplos: sistemas operativos (Windows, Linux, macOS), controladores de hardware.\n",
        "\n",
        "2. **Software de aplicación:**  \n",
        "   - Son los programas que permiten al usuario realizar tareas específicas.  \n",
        "   - Ejemplos: navegadores web, procesadores de texto, hojas de cálculo, videojuegos, y programas.\n",
        "   - Una de las características clave del **software de aplicación** es la **interacción con el usuario**. Esto significa que el programa **recibe datos del usuario**, los procesa y **devuelve resultados** o realiza acciones según lo que se haya ingresado.\n",
        "\n",
        "---\n",
        "\n",
        "Un **menú** es una forma de que el usuario elija entre varias opciones en un programa.  \n",
        "En Python, se suele implementar usando `print()` para mostrar las opciones de funcionalidad del software y `input()` para leer la elección del usuario.  \n",
        "Además usaremos Condicionales `if/elif/else` que permiten que el programa **responda de manera diferente según la elección del usuario**.\n",
        "\n",
        "## Ejemplo básico de menú\n",
        "\n",
        "```python\n",
        "print(\"Seleccione una opción:\")\n",
        "print(\"1. Sumar\")\n",
        "print(\"2. Restar\")\n",
        "print(\"3. Multiplicar\")\n",
        "print(\"4. Dividir\")\n",
        "\n",
        "opcion = input(\"Ingresá el número de la opción deseada: \")\n",
        "\n",
        "if opcion == \"1\":\n",
        "    print(\"Elegiste Sumar\")\n",
        "elif opcion == \"2\":\n",
        "    print(\"Elegiste Restar\")\n",
        "elif opcion == \"3\":\n",
        "    print(\"Elegiste Multiplicar\")\n",
        "elif opcion == \"4\":\n",
        "    print(\"Elegiste Dividir\")\n",
        "else:\n",
        "    print(\"Opción inválida\")\n"
      ]
    },
    {
      "cell_type": "code",
      "execution_count": null,
      "metadata": {
        "id": "Ee9JeuJ2TqKB"
      },
      "outputs": [],
      "source": [
        "#MENÚS - INTRO A SOFTWARE: ejecución de una sola vez\n",
        "\n",
        "numero = int(input('Ingrese uma opción: 1, 2 , 3\\n'))\n",
        "\n",
        "if numero == 1:\n",
        "  print('Se comunicará con el departamento de alumnos')\n",
        "elif numero == 2 :\n",
        "  print('Se comunicará con el departamento de profesores')\n",
        "elif numero == 3 :\n",
        "  print('Se comunicará con el departamento de administración')\n",
        "\n",
        "else:\n",
        " print('Elija una opción correcta')"
      ]
    },
    {
      "cell_type": "code",
      "execution_count": null,
      "metadata": {
        "id": "C8pL5vNaxmIO"
      },
      "outputs": [],
      "source": [
        "#otro ejemplo de menú interactivo:\n",
        "\n",
        "print('Bienvenido a esta calculadora')\n",
        "print('Elije 1 para calcular la suma')\n",
        "print('Elije 2 para calcular la resta')\n",
        "\n",
        "eleccion = int(input('Elije la operación'))\n",
        "\n",
        "if eleccion == 1:\n",
        "  print('Elegiste la suma')\n",
        "  a = int(input('Ingrese el primer sumando'))\n",
        "  b = int(input('Ingrese el segundo sumando'))\n",
        "  print('La suma es', a+b)\n",
        "\n",
        "elif eleccion == 2:\n",
        "  print('Elegiste la resta')\n",
        "  a = int(input('Ingrese el primer sumando'))\n",
        "  b = int(input('Ingrese el segundo sumando'))\n",
        "  print('La resta es', a-b)\n",
        "\n",
        "else:\n",
        "  print('Elije una opción válida')"
      ]
    },
    {
      "cell_type": "markdown",
      "metadata": {
        "id": "vWE6KqOnxOdP"
      },
      "source": [
        "🔹 Menú interactivo con bucle en Python\n",
        "\n",
        "En programas más completos, podemos hacer que un menú **se repita automáticamente** hasta que el usuario decida salir.  \n",
        "Para esto usamos un **bucle `while True`** combinado con `input()` y condicionales.\n",
        "Es importante recalcar que en cualquier bucle de ejecución para la interacción con el usuario, debemos darle una opción de salida. En este caso, añadimos una opción más al menú, que contiene un `break`, que sale del programa limpiamente.\n",
        "Si no tenemos una opción de salida, caemos en una ejecución en loop 'infinito'.\n",
        "\n",
        "Ejemplo de menú con repetición\n",
        "\n",
        "```python\n",
        "while True:\n",
        "    print(\"\\nSeleccione una opción:\")\n",
        "    print(\"1. Sumar\")\n",
        "    print(\"2. Restar\")\n",
        "    print(\"3. Salir\")\n",
        "\n",
        "    opcion = input(\"Ingresá el número de la opción deseada: \")\n",
        "\n",
        "    if opcion == \"1\":\n",
        "        print(\"Elegiste Sumar\")\n",
        "    elif opcion == \"2\":\n",
        "        print(\"Elegiste Restar\")\n",
        "    elif opcion == \"3\":\n",
        "        print(\"Saliendo del programa...\")\n",
        "        break  # Termina el bucle y sale del programa\n",
        "    else:\n",
        "        print(\"Opción inválida, por favor intentá de nuevo\")"
      ]
    },
    {
      "cell_type": "code",
      "execution_count": null,
      "metadata": {
        "id": "Xj0aZa-Yyd-r"
      },
      "outputs": [],
      "source": [
        "#observar que la ejecución del programa es jeráquica\n",
        "#la secuecia de 'if elif else' se ejecuta dentro del\n",
        "#bucle 'while True'\n",
        "#esto se llama ejecuciones anidadas\n",
        "\n",
        "while True:\n",
        "  print('Bienvenido a esta calculadora')\n",
        "  print('Elije 1 para calcular la suma')\n",
        "  print('Elije 2 para calcular la resta')\n",
        "  print('Elije 3 para salir')\n",
        "\n",
        "  if eleccion == 1:\n",
        "    print('Elegiste la suma')\n",
        "    #escribir la suma\n",
        "\n",
        "  elif eleccion == 2:\n",
        "    print('Elegiste la resta')\n",
        "    #escribir la resta\n",
        "\n",
        "  elif eleccion == 3:\n",
        "    print('Saliendo del programa...')\n",
        "    break\n",
        "\n",
        "  else:\n",
        "    print('Elije una opción válida')\n",
        "\n"
      ]
    },
    {
      "cell_type": "code",
      "execution_count": null,
      "metadata": {
        "id": "eJXtcL2EvpQB"
      },
      "outputs": [],
      "source": [
        "#Un escalón más en la estructura anidada: ejecución con contraseña\n",
        "\n",
        "contraseña = 'python123'\n",
        "ingresar_contraseña = input('ingrese la contraseña')\n",
        "\n",
        "if ingresar_contraseña == contraseña:\n",
        "\n",
        "  while True:\n",
        "    print('Bienvenido a esta calculadora')\n",
        "    print('Elije 1 para calcular la suma')\n",
        "    print('Elije 2 para calcular la resta')\n",
        "    print('Elije 3 para salir')\n",
        "    eleccion = int(input('Elije la operación'))\n",
        "\n",
        "    if eleccion == 1:\n",
        "      print('Elegiste la suma')\n",
        "    elif eleccion == 2:\n",
        "      print('Elegiste la resta')\n",
        "    elif eleccion == 3:\n",
        "      print('Saliendo del programa...')\n",
        "      break\n",
        "    else:\n",
        "      print('Elije una opción válida')\n",
        "\n",
        "else:\n",
        "  print('Contraseña incorrecta')\n",
        "\n"
      ]
    },
    {
      "cell_type": "code",
      "execution_count": null,
      "metadata": {
        "colab": {
          "base_uri": "https://localhost:8080/"
        },
        "id": "C5gpCh2O3HCh",
        "outputId": "d0c02c46-5295-4da5-815c-1947a58d7805"
      },
      "outputs": [
        {
          "name": "stdout",
          "output_type": "stream",
          "text": [
            "Ingrese un numero para calcular la raiz cuadrada-50\n",
            "el numero ingresado no es positivo\n"
          ]
        }
      ],
      "source": [
        "from math import *\n",
        "a=float(input('Ingrese un numero para calcular la raiz cuadrada'))\n",
        "if a >=0:\n",
        "  resultado = sqrt(a)\n",
        "  resultado1= a ** (1/2)\n",
        "  print(resultado)\n",
        "\n",
        "else:\n",
        "  print('el numero ingresado no es positivo')\n",
        "\n",
        "\n"
      ]
    },
    {
      "cell_type": "code",
      "execution_count": null,
      "metadata": {
        "colab": {
          "base_uri": "https://localhost:8080/"
        },
        "id": "EKFJAf_U4YuU",
        "outputId": "39956abd-e9d7-4014-aba1-82ca29754f96"
      },
      "outputs": [
        {
          "name": "stdout",
          "output_type": "stream",
          "text": [
            "Ingrese un número-4\n",
            "La raiz cuadrada de -4.0 es (1.2246467991473532e-16+2j)\n"
          ]
        }
      ],
      "source": [
        "a=float(input('Ingrese un número'))\n",
        "resultado_2 = a ** (1/2)\n",
        "print('La raiz cuadrada de', a, 'es', resultado_2)"
      ]
    },
    {
      "cell_type": "markdown",
      "metadata": {
        "id": "v3QGqSfm2JqF"
      },
      "source": [
        "crear un programa (con menu de opciones) en loop while true, que se acceda por medio de contraseña."
      ]
    },
    {
      "cell_type": "code",
      "execution_count": null,
      "metadata": {
        "colab": {
          "base_uri": "https://localhost:8080/"
        },
        "collapsed": true,
        "id": "JvMtO6_7q42R",
        "outputId": "3f1cb28f-7949-4a6b-cada-9af7c94de8a8"
      },
      "outputs": [
        {
          "name": "stdout",
          "output_type": "stream",
          "text": [
            "🍽️ Bienvenidos al Restaurante ChatGourmet\n",
            "Menú:\n",
            "1. Ver entradas\n",
            "2. Ver platos principales\n",
            "3. Ver vinos\n",
            "4. Ver postres\n",
            "Elija para ver el menú: 1, 2 , 3 ,45\n",
            "\n",
            "❌ Opción no válida.\n"
          ]
        }
      ],
      "source": [
        "# INTRODCUCCIÓN A INPUT + MENÚ\n",
        "\n",
        "print(\"🍽️ Bienvenidos al Restaurante ChatGourmet\")\n",
        "print(\"Menú:\")\n",
        "print(\"1. Ver entradas\")\n",
        "print(\"2. Ver platos principales\")\n",
        "print(\"3. Ver vinos\")\n",
        "print(\"4. Ver postres\")\n",
        "\n",
        "opcion = int(input('Elija para ver el menú: 1, 2 , 3 ,4'))\n",
        "\n",
        "if opcion == 1:\n",
        "    print(\"\\n🥗 Entradas:\")\n",
        "    print(\"- Bruschettas: $1200\")\n",
        "    print(\"- Ensalada caprese: $1500\")\n",
        "\n",
        "elif opcion == 2:\n",
        "    print(\"\\n🍝 Platos principales:\")\n",
        "    print(\"- Ñoquis con pesto: $2500\")\n",
        "    print(\"- Milanesa con papas: $2800\")\n",
        "    print(\"- Risotto de hongos: $3100\")\n",
        "elif opcion == 3:\n",
        "    print(\"\\n🍷 Vinos:\")\n",
        "    print(\"- Malbec reserva: $4500\")\n",
        "    print(\"- Chardonnay joven: $3800\")\n",
        "\n",
        "elif opcion == 4:\n",
        "    print(\"\\n🍰 Postres:\")\n",
        "    print(\"- Tiramisú: $1800\")\n",
        "    print(\"- Flan con dulce de leche: $1600\")\n",
        "    print(\"- Helado artesanal: $1500\")\n",
        "\n",
        "else:\n",
        "    print(\"\\n❌ Opción no válida.\")\n",
        "\n",
        "\n"
      ]
    },
    {
      "cell_type": "code",
      "execution_count": null,
      "metadata": {
        "id": "hlrZU7R-4XY7"
      },
      "outputs": [],
      "source": [
        "#Decisiones sobre el clima\n",
        "\n",
        "# Pedimos al usuario que ingrese la condición del clima\n",
        "clima = str(input(\"¿Cómo está el clima? (soleado, lluvioso, nublado): \")).lower()\n",
        "#el MÉTODO .lower() hace que independientemente si el usuario entró M o m, será m\n",
        "#el input anidado en str fuerza a la variable a ser cadena\n",
        "\n",
        "# Tomamos decisiones basadas en la respuesta del usuario\n",
        "if clima == \"soleado\":\n",
        "    print(\"Es un buen día para salir al parque.\")\n",
        "elif clima == \"lluvioso\":\n",
        "    print(\"Mejor quédate en casa con una taza de té.\")\n",
        "elif clima == \"nublado\":\n",
        "    print(\"Podrías salir, pero lleva una chaqueta.\")\n",
        "else:\n",
        "    print(\"No reconozco esa condición del clima.\")"
      ]
    },
    {
      "cell_type": "markdown",
      "metadata": {
        "id": "ezaK_4t8NxTx"
      },
      "source": [
        "# 📝 Prácticas de Python: Variables, Input, Print y Condicionales\n",
        "\n",
        "**Ejercicio 1:**  \n",
        "Crea variables para guardar tu nombre, edad y ciudad. Luego imprímelas en un mensaje usando `print()`.\n",
        "\n",
        "Ejemplo de salida esperada:\n",
        "\"Hola, me llamo Juan, tengo 25 años y vivo en Buenos Aires.\"\n",
        "\n",
        "**Ejercicio 2:**  \n",
        "Usa la función type() para mostrar el tipo de cada variable que creaste (nombre, edad, ciudad).\n",
        "\n",
        "\n",
        "**Ejercicio 3:**\n",
        "Pide al usuario que ingrese su nombre y su edad. Muestra un mensaje personalizado:\n",
        "\n",
        "Ejemplo:\n",
        "Usuario ingresa: Ana, 30\n",
        "Salida: \"¡Hola, Ana! Tienes 30 años.\"\n",
        "\n",
        "\n",
        "**Ejercicio 4:**\n",
        "Pide al usuario que ingrese dos números y muestra:\n",
        "\n",
        "La suma\n",
        "\n",
        "La resta\n",
        "\n",
        "El tipo de cada número ingresado\n",
        "\n",
        "\n",
        "**Ejercicio 4:**\n",
        "Pide al usuario que ingrese su edad y clasifícala en:\n",
        "\n",
        "- \"Niño\" si edad < 12  \n",
        "- \"Adolescente\" si 12 ≤ edad < 18  \n",
        "- \"Adulto\" si 18 ≤ edad < 60  \n",
        "- \"Adulto mayor\" si edad ≥ 60  \n",
        "\n",
        "**Ejercicio 5: Clasificación de usuarios**  \n",
        "Pide al usuario que ingrese su rol (`administrador`, `moderador`, `usuario`) y muestra:\n",
        "\n",
        "- \"Acceso completo\" si es administrador  \n",
        "- \"Acceso limitado\" si es moderador  \n",
        "- \"Acceso básico\" si es usuario  \n",
        "- \"Rol no reconocido\" para cualquier otro valor\n",
        "\n",
        "\n",
        "Ejercicio 6: Verificación de acceso con rol y contraseña\n",
        "\n",
        "Realiza un programa en Python que:\n",
        "\n",
        "1. Pida al usuario que ingrese su **rol** (`administrador`, `moderador`, `usuario`) y su **contraseña**.  \n",
        "2. Verifique los datos ingresados y muestre mensajes según corresponda:\n",
        "\n",
        "   - Si el usuario es `\"admin\"` **y** la contraseña es `\"1234\"`:  \n",
        "     - Mostrar `\"Bienvenido, administrador\"`  \n",
        "     - Mostrar `\"Contraseña correcta\"`  \n",
        "     - Mostrar un **menú de funciones de administrador**, por ejemplo:  \n",
        "       ```\n",
        "       1. Ver usuarios\n",
        "       2. Configuración\n",
        "       3. Salir\n",
        "       ```\n",
        "\n",
        "   - Si el usuario es `\"admin\"` pero la contraseña es incorrecta:  \n",
        "     - Mostrar `\"Usuario o contraseña inválidos\"`\n",
        "\n",
        "   - Si el usuario no es `\"admin\"` pero la contraseña es `\"1234\"`:  \n",
        "     - Mostrar `\"Usuario válido, pero no es administrador\"`  \n",
        "     - Mostrar un **menú de funciones de usuario**, por ejemplo:  \n",
        "       ```\n",
        "       1. Ver perfil\n",
        "       2. Cambiar contraseña\n",
        "       3. Salir\n",
        "       ```\n",
        "\n",
        "   - Si el usuario **o** la contraseña son incorrectos:  \n",
        "     - Mostrar `\"Usuario o contraseña inválidos\"`\n",
        "\n",
        "3. Asegúrate de usar **condicionales (`if/elif/else`)** y mostrar los mensajes correspondientes según el rol y la contraseña.\n",
        "\n"
      ]
    },
    {
      "cell_type": "code",
      "execution_count": null,
      "metadata": {
        "id": "nhJc3e6FQ6H_"
      },
      "outputs": [],
      "source": []
    },
    {
      "cell_type": "markdown",
      "metadata": {
        "id": "5aIgTnqUQ7Gz"
      },
      "source": [
        "# 📝 Ejercicio Integrador: Acceso y Calculadora\n",
        "\n",
        "**Objetivo:** Practicar `input()`, variables, `if - elif - else` y `if - if - else` creando un programa completo.\n",
        "\n",
        "---\n",
        "\n",
        "## Enunciado\n",
        "\n",
        "1. Crea un programa que pida al usuario una **contraseña** para acceder.  \n",
        "   - Si la contraseña es correcta, muestra un mensaje de bienvenida y continúa.  \n",
        "   - Si la contraseña es incorrecta, muestra un mensaje de error y termina el programa.\n",
        "\n",
        "2. Una vez que el usuario haya ingresado correctamente, muestra un **menú de calculadora** con las siguientes opciones:\n",
        "\n",
        "   1. Suma  \n",
        "   2. Resta  \n",
        "   3. Multiplicación  \n",
        "   4. División  \n",
        "   5. Salir\n",
        "\n",
        "3. Pide al usuario que seleccione una opción del menú.  \n",
        "   - Si selecciona una operación (1-4), solicita que ingrese **dos números**.  \n",
        "   - Realiza la operación correspondiente y muestra el resultado.  \n",
        "   - Si selecciona salir (5), muestra un mensaje de despedida y termina el programa.  \n",
        "   - Si elige una opción inválida, muestra un mensaje de error.\n"
      ]
    },
    {
      "cell_type": "code",
      "execution_count": null,
      "metadata": {
        "id": "MVKqSejSRK8A"
      },
      "outputs": [],
      "source": []
    },
    {
      "cell_type": "markdown",
      "metadata": {
        "id": "W4O7DGEHyye8"
      },
      "source": [
        "Bucle while:\n",
        "\n",
        "## 🔁 Bucles en Python: `while` vs `for`\n",
        "\n",
        "### 🟣 `while`: repite mientras una condición sea verdadera\n",
        "- No sabemos cuántas veces se repetirá.\n",
        "- Ideal cuando dependemos de algo que puede cambiar en el proceso (por ejemplo, esperar una contraseña correcta, contar hasta cierta condición, etc).\n",
        "\n",
        "```python\n",
        "contador = 1\n",
        "while contador <= 5:\n",
        "    print(\"Repetición número\", contador)\n",
        "    contador += 1\n"
      ]
    },
    {
      "cell_type": "code",
      "execution_count": null,
      "metadata": {
        "id": "cyq3SPvItq9T"
      },
      "outputs": [],
      "source": [
        "#contador\n",
        "from time import sleep\n",
        "numero = 10\n",
        "while numero <= 20:\n",
        "    print(\"número\", numero)\n",
        "\n",
        "    #numero = numero + 1\n",
        "    numero += 1\n",
        "    sleep(2)\n"
      ]
    },
    {
      "cell_type": "code",
      "execution_count": null,
      "metadata": {
        "colab": {
          "base_uri": "https://localhost:8080/"
        },
        "collapsed": true,
        "id": "smdfGF_hx82l",
        "outputId": "724b0fd5-9e80-4c33-ddcf-624b8b791129"
      },
      "outputs": [
        {
          "name": "stdout",
          "output_type": "stream",
          "text": [
            "1\n",
            "2\n",
            "2\n",
            "3\n",
            "3\n",
            "4\n",
            "4\n",
            "5\n",
            "5\n",
            "6\n"
          ]
        }
      ],
      "source": [
        "#variables acumuladoras: SUMA\n",
        "#OJO: SI MODIFICO EL VALOR DE UNA VARIALBE, NO SE PUEDE DESHACER.\n",
        "i = 1\n",
        "while i <= 5:\n",
        "    print(i) #imprime el valor de antes\n",
        "    i =  i+ 1  # Incrementa el valor de i en 1\n",
        "    print(i) #imprime el valor después de la operación"
      ]
    },
    {
      "cell_type": "code",
      "execution_count": null,
      "metadata": {
        "colab": {
          "base_uri": "https://localhost:8080/"
        },
        "collapsed": true,
        "id": "uT139pwX1Puk",
        "outputId": "1f36941a-2120-4565-f5fa-7181e6ad299c"
      },
      "outputs": [
        {
          "name": "stdout",
          "output_type": "stream",
          "text": [
            "10\n",
            "9\n",
            "8\n",
            "7\n",
            "6\n",
            "5\n",
            "4\n",
            "3\n",
            "2\n",
            "1\n"
          ]
        }
      ],
      "source": [
        "#CONTADOR HACIA ATRÁS\n",
        "\n",
        "# Inicializamos el contador en 10\n",
        "contador = 10\n",
        "\n",
        "# Bucle while que cuenta hacia atrás desde 10 hasta 1\n",
        "while contador >= 1:\n",
        "    print(contador)\n",
        "    contador = contador -  1  # Decrementamos el contador"
      ]
    },
    {
      "cell_type": "markdown",
      "metadata": {
        "id": "Ud5nT54_zYqU"
      },
      "source": [
        "## 🔵 Bucle `for` con `range()` en Python\n",
        "\n",
        "El bucle `for` permite repetir una acción un número determinado de veces.\n",
        "\n",
        "---\n",
        "\n",
        "### 🧩 Sintaxis:\n",
        "-------------\n",
        "\n",
        "for variable in range(inicio, fin, paso):\n",
        "    # print(variable)\n",
        "---------\n",
        "o\n",
        "\n",
        "Si no se pone el paso a range(), Python asume que es 1 por defecto. Es decir, va sumando de uno en uno.\n",
        "-----\n",
        "for variable in range(inicio, fin):\n",
        "    # print(variable)\n",
        "-----------\n",
        "En el bucle for, la \"variable\" que aparece después de for (por ejemplo, i en for i in range(...)) es comúnmente llamada índice, contador, o iterador.\n",
        "\n",
        "Su función es ir tomando uno por uno los valores de la secuencia generada por range() en cada vuelta del bucle."
      ]
    },
    {
      "cell_type": "code",
      "execution_count": null,
      "metadata": {
        "collapsed": true,
        "id": "VV_zLO9XzXgj"
      },
      "outputs": [],
      "source": [
        "#En este caso, el bucle recorre los números del 1 al 5 usando la función range().\n",
        "#En cada iteración, i toma un valor de ese rango y lo imprime.\n",
        "#el rango de un for SIEMPRE ASUME : rango (inicio, fin] -> no está incluido\n",
        "#Lo que pasa:\n",
        "\n",
        "#En la primera vuelta, i = 0\n",
        "\n",
        "#En la segunda vuelta, i = 1\n",
        "\n",
        "#En la tercera vuelta, i = 2\n",
        "for i in range(1, 6):\n",
        "    print(i)"
      ]
    },
    {
      "cell_type": "code",
      "execution_count": null,
      "metadata": {
        "id": "lPmWz0qIwarw"
      },
      "outputs": [],
      "source": [
        "#si se quiere imprimir el índice, además del valor\n",
        "\n",
        "indice = 0  # Este es el índice\n",
        "\n",
        "for numero in range(10, 21):\n",
        "    print(\"Índice:\", contador, \"→ Valor:\", numero)\n",
        "    contador = contador + 1"
      ]
    },
    {
      "cell_type": "code",
      "execution_count": null,
      "metadata": {
        "collapsed": true,
        "id": "aT0nltR40XXT"
      },
      "outputs": [],
      "source": [
        "for i in range(1, 11):\n",
        "    print(i*2)"
      ]
    },
    {
      "cell_type": "markdown",
      "metadata": {
        "id": "1OFbAM5B1yCY"
      },
      "source": [
        "Tablas de multiplicar con for\n",
        "Pide al usuario un número.\n",
        "Usa un bucle for para imprimir la tabla de multiplicar de ese número del 1 al 10."
      ]
    },
    {
      "cell_type": "code",
      "execution_count": null,
      "metadata": {
        "id": "D9XVNquj1uYm"
      },
      "outputs": [],
      "source": [
        "# Pedimos un número al usuario\n",
        "#usamos INPUT, FOR,\n",
        "numero = int(input(\"Ingresa un número para ver su tabla de multiplicar: \"))\n",
        "\n",
        "# Bucle for que imprime la tabla de multiplicar\n",
        "for i in range(1, 11):\n",
        "    resultado = numero * i\n",
        "    print(numero, 'por', i, '=', resultado)"
      ]
    },
    {
      "cell_type": "markdown",
      "metadata": {
        "id": "WqUfyAMLx26F"
      },
      "source": [
        "\n",
        "# 🔄 ¿Qué hace `while True`?\n",
        "\n",
        "`while True:` crea un **bucle infinito**, lo que significa que **el bucle nunca termina a menos que pongamos una condición para salir**.\n",
        "\n",
        "Este tipo de bucles se usa cuando:\n",
        "\n",
        "- **No sabemos cuántas veces vamos a repetir algo.**\n",
        "- **Queremos que el usuario decida cuándo salir** del bucle.\n",
        "\n",
        "---\n",
        "\n",
        "### 📌 Ejemplo de `while True`:\n",
        "\n",
        "```python\n",
        "while True:\n",
        "    respuesta = input(\"¿Querés seguir? (s/n): \")\n",
        "    if respuesta == \"n\":\n",
        "        print(\"Terminamos el bucle.\")\n",
        "        break\n"
      ]
    },
    {
      "cell_type": "markdown",
      "metadata": {
        "id": "u46yDfu46EAZ"
      },
      "source": [
        "EJEMPLO: Menú interactivo: Calculadora Básica\n",
        "Explicación del programa (Calculadora Básica):\n",
        "Mostrar el menú: El menú contiene opciones para realizar las 4 operaciones básicas (suma, resta, multiplicación, y división) más la opción de salir.\n",
        "\n",
        "Input del usuario: El usuario elige la operación que desea realizar ingresando un número del 1 al 5.\n",
        "\n",
        "Condicionales if/elif/else:\n",
        "\n",
        "Opción 1: Si el usuario elige 1, se le pide ingresar dos números, se suman y se muestra el resultado.\n",
        "Opción 2: Si elige 2, se ingresan dos números, se restan y se muestra el resultado.\n",
        "Opción 3: Si elige 3, se ingresan dos números, se multiplican y se muestra el resultado.\n",
        "Opción 4: Si elige 4, se ingresan dos números, se verifica que el segundo no sea 0, y si no lo es, se divide el primer número por el segundo y se muestra el resultado. Si es 0, se muestra un error.\n",
        "Opción 5: Si elige 5, el programa imprime un mensaje de salida y termina.\n",
        "Otras opciones: Si el usuario ingresa una opción no válida, se muestra un mensaje de error.\n",
        "Flujo del programa:\n",
        "El bucle while mantiene el programa corriendo hasta que el usuario elige salir con la opción 5.\n",
        "Dependiendo de la operación elegida, se realizan las operaciones correspondientes y se muestra el resultado.\n",
        "Si se elige una opción no válida, se muestra un mensaje de advertencia y el programa sigue corriendo.\n",
        "Este ejemplo es similar al anterior, pero cambia la finalidad del menú hacia un caso práctico de operaciones matemáticas. ¿Te gustaría añadir algo más o hacer ajustes en las opciones?"
      ]
    },
    {
      "cell_type": "code",
      "execution_count": null,
      "metadata": {
        "id": "IbIpJi3J7zJW"
      },
      "outputs": [],
      "source": [
        "#OJO, evitar los loops infinitos como:\n",
        "\n",
        "#while True:\n",
        "#    print(\"Este mensaje se repetirá infinitamente.\")"
      ]
    },
    {
      "cell_type": "code",
      "execution_count": null,
      "metadata": {
        "colab": {
          "background_save": true,
          "base_uri": "https://localhost:8080/"
        },
        "id": "Y81pTZWf6DbD",
        "outputId": "479e28a7-6e87-4fbd-fb5d-f9c4bca7bd7a"
      },
      "outputs": [
        {
          "name": "stdout",
          "output_type": "stream",
          "text": [
            "\n",
            "Menú de Operaciones Matemáticas\n",
            "1. Sumar\n",
            "2. Restar\n",
            "3. Multiplicar\n",
            "4. Dividir\n",
            "5. Salir\n"
          ]
        }
      ],
      "source": [
        "# Bucle principal que se repite hasta que el usuario elija salir\n",
        "while True:\n",
        "    # Mostramos el menú directamente en el cuerpo del programa\n",
        "    print(\"\\nMenú de Operaciones Matemáticas\")\n",
        "    print(\"1. Sumar\")\n",
        "    print(\"2. Restar\")\n",
        "    print(\"3. Multiplicar\")\n",
        "    print(\"4. Dividir\")\n",
        "    print(\"5. Salir\")\n",
        "\n",
        "    # Pedimos la opción al usuario\n",
        "    opcion = int(input(\"Elige una opción (1-5): \"))\n",
        "\n",
        "    # Usamos if/elif/else para tomar decisiones en base a la opción elegida\n",
        "    if opcion == 1:\n",
        "        # Operación de suma\n",
        "        num1 = float(input(\"Ingresa el primer número: \"))\n",
        "        num2 = float(input(\"Ingresa el segundo número: \"))\n",
        "        print(f\"La suma de {num1} y {num2} es: {num1 + num2}\")\n",
        "        #print('La suma de', num1, 'y', num2, 'es:', num1 + num2)\n",
        "\n",
        "    elif opcion == 2:\n",
        "        # Operación de resta\n",
        "        num1 = float(input(\"Ingresa el primer número: \"))\n",
        "        num2 = float(input(\"Ingresa el segundo número: \"))\n",
        "        print(f\"La resta de {num1} menos {num2} es: {num1 - num2}\")\n",
        "\n",
        "    elif opcion == 3:\n",
        "        # Operación de multiplicación\n",
        "        num1 = float(input(\"Ingresa el primer número: \"))\n",
        "        num2 = float(input(\"Ingresa el segundo número: \"))\n",
        "        print(f\"La multiplicación de {num1} por {num2} es: {num1 * num2}\")\n",
        "\n",
        "    elif opcion == 4:\n",
        "        # Operación de división\n",
        "        num1 = float(input(\"Ingresa el primer número: \"))\n",
        "        num2 = float(input(\"Ingresa el segundo número: \"))\n",
        "        if num2 != 0:\n",
        "            print(f\"La división de {num1} entre {num2} es: {num1 / num2}\")\n",
        "        else:\n",
        "            print(\"Error: No se puede dividir por cero.\")\n",
        "\n",
        "    elif opcion == 5:\n",
        "        # Salir del programa\n",
        "        print(\"Saliendo del programa...\")\n",
        "        break  # Rompemos el bucle para salir del programa\n",
        "\n",
        "    else:\n",
        "        print(\"Opción no válida. Por favor elige una opción del 1 al 5.\")"
      ]
    },
    {
      "cell_type": "code",
      "execution_count": null,
      "metadata": {
        "colab": {
          "base_uri": "https://localhost:8080/"
        },
        "id": "VDn6iRHVi__N",
        "outputId": "6fd741a0-3b04-4f21-9ce9-27b1292ed4bb"
      },
      "outputs": [
        {
          "name": "stdout",
          "output_type": "stream",
          "text": [
            "5\n",
            "2\n",
            "2.5\n"
          ]
        }
      ],
      "source": [
        "import math\n",
        "D = float(input())\n",
        "r = D/2\n",
        "A = math.pi*(r**2)\n",
        "print('El área del círculo es:', A)\n",
        "\n",
        "\n",
        "from math import *\n",
        "D = float(input())\n",
        "r = D/2\n",
        "A = pi*(r**2)\n",
        "print('El área del círculo es:', A)\n",
        "\n",
        "\n",
        "from math import pi\n",
        "D = float(input())\n",
        "r = D/2\n",
        "A = pi*(r**2)\n",
        "print('El área del círculo es:', A)\n",
        "\n",
        "import math as mt\n",
        "D = float(input())\n",
        "r = D/2\n",
        "A = mt.pi*(r**2)\n",
        "print('El área del círculo es:', A)\n",
        "\n",
        "D = float(input())\n",
        "r = D/2\n",
        "A = pi*(r**2)\n",
        "print('El área del círculo es:', A)"
      ]
    },
    {
      "cell_type": "markdown",
      "metadata": {
        "id": "ywtImGEY7Atg"
      },
      "source": [
        "# Práctica: Menú Interactivo de Tienda de Electrónica\n",
        "\n",
        "## Objetivo:\n",
        "Desarrollar un menú interactivo utilizando un bucle `while True`, `if`, `else`, `break`, `input` que permita a los usuarios navegar por las opciones de una tienda en línea, con la posibilidad de ver productos, pedir más información, o salir.\n",
        "\n",
        "## Enunciado:\n",
        "\n",
        "### 1. Introducción:\n",
        "Estás desarrollando una interfaz de usuario para una tienda de productos electrónicos en línea. El sistema debe permitir a los usuarios elegir entre diferentes categorías de productos, ver sus detalles y decidir si desean saber más o salir.\n",
        "\n",
        "### 2. Requerimientos:\n",
        "- El menú debe mostrar las siguientes opciones:\n",
        "  - **1. Ver teléfonos móviles**\n",
        "  - **2. Ver laptops**\n",
        "  - **3. Ver televisores**\n",
        "  - **4. Ver auriculares**\n",
        "  - **5. Salir del sistema**\n",
        "\n",
        "- Cuando el usuario elija una opción, debe mostrar una lista de productos de esa categoría, por ejemplo:\n",
        "  - **Teléfonos móviles**:\n",
        "    - iPhone 14: $899\n",
        "    - Samsung Galaxy S22: $799\n",
        "  - **Laptops**:\n",
        "    - MacBook Air: $999\n",
        "    - Dell XPS 13: $899\n",
        "  - **Televisores**:\n",
        "    - Samsung 55\" 4K: $650\n",
        "    - LG 65\" OLED: $1200\n",
        "  - **Auriculares**:\n",
        "    - Sony WH-1000XM4: $350\n",
        "    - Bose QuietComfort 35 II: $299\n",
        "\n",
        "- Después de mostrar los productos de la categoría seleccionada, el sistema debe preguntar si el usuario desea volver al menú principal o salir. Si elige salir, el programa termina.\n",
        "\n",
        "- Si el usuario ingresa una opción no válida, el sistema debe informarle que la opción no es correcta y mostrar el menú nuevamente.\n",
        "\n",
        "---\n"
      ]
    },
    {
      "cell_type": "code",
      "execution_count": null,
      "metadata": {
        "id": "nILR4a5FpgzS"
      },
      "outputs": [],
      "source": [
        "setearcontrasena = input()\n",
        "\n",
        "ponercntrasena= input()\n",
        "\n",
        "if ponercntrasena == setearcontrasena:\n",
        "    while True:\n",
        "      print('menù')\n",
        "\n",
        "else:\n",
        "    print('contraseña incorrecta')"
      ]
    },
    {
      "cell_type": "markdown",
      "metadata": {
        "id": "E37wbMv02JeC"
      },
      "source": [
        "\n",
        "# Práctica Opcional: Calculadora\n",
        "\n",
        "## Objetivo:\n",
        "Desarrollar una calculadora que permita realizar operaciones matemáticas básicas, así como también propiedades relacionadas con un círculo (input: radio o diámetro, determinar área, perímetro, momento de inercia respecto a ejes, etc ) y el área de un triángulo, usando `while True`, `if`, `else`, `break`, `input`, librería `math`.\n",
        "\n",
        "## Enunciado:\n",
        "\n",
        "### 1. Introducción:\n",
        "El objetivo de esta práctica es crear un programa que permita al usuario realizar operaciones matemáticas básicas de forma interactiva. El sistema debe permitir al usuario ingresar dos números y seleccionar la operación que desea realizar.\n",
        "\n",
        "### 2. Requerimientos:\n",
        "\n",
        "- El programa debe mostrar un menú con las siguientes opciones:\n",
        "  - **1. Sumar**\n",
        "  - **2. Restar**\n",
        "  - **3. Multiplicar**\n",
        "  - **4. Dividir**\n",
        "  - **5. Salir**\n",
        "\n",
        "- Cuando el usuario elija una opción, debe pedirle dos números e imprimir el resultado de la operación seleccionada.\n",
        "\n",
        "- Después de mostrar el resultado, el programa debe ofrecer al usuario la opción de realizar otra operación o salir del sistema.\n",
        "\n",
        "- Si el usuario ingresa una opción no válida, el programa debe informarle que la opción no es correcta y mostrar el menú nuevamente.\n",
        "\n",
        "### 3. Opcional:\n",
        "Si tienes tiempo y deseas mejorar el proyecto, puedes agregar una validación para evitar la división por cero o permitir que el usuario ingrese múltiples operaciones sin necesidad de volver al menú principal.\n",
        "\n",
        "---\n",
        "\n"
      ]
    }
  ],
  "metadata": {
    "colab": {
      "provenance": []
    },
    "kernelspec": {
      "display_name": "Python 3",
      "name": "python3"
    },
    "language_info": {
      "codemirror_mode": {
        "name": "ipython",
        "version": 3
      },
      "file_extension": ".py",
      "mimetype": "text/x-python",
      "name": "python",
      "nbconvert_exporter": "python",
      "pygments_lexer": "ipython3",
      "version": "3.11.4"
    }
  },
  "nbformat": 4,
  "nbformat_minor": 0
}
